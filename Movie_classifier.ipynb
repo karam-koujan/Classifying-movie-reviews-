{
  "nbformat": 4,
  "nbformat_minor": 0,
  "metadata": {
    "colab": {
      "name": "Movie classifier.ipynb",
      "provenance": [],
      "collapsed_sections": []
    },
    "kernelspec": {
      "name": "python3",
      "display_name": "Python 3"
    },
    "language_info": {
      "name": "python"
    }
  },
  "cells": [
    {
      "cell_type": "code",
      "execution_count": 1,
      "metadata": {
        "colab": {
          "base_uri": "https://localhost:8080/"
        },
        "id": "Rd3s9qcXVMVz",
        "outputId": "ab1fcf29-c63e-44e1-a2de-620262c07790"
      },
      "outputs": [
        {
          "output_type": "stream",
          "name": "stdout",
          "text": [
            "Downloading data from https://storage.googleapis.com/tensorflow/tf-keras-datasets/imdb.npz\n",
            "17465344/17464789 [==============================] - 0s 0us/step\n",
            "17473536/17464789 [==============================] - 0s 0us/step\n"
          ]
        }
      ],
      "source": [
        "from tensorflow.keras.datasets import imdb\n",
        "(train_data,train_label),(test_data,test_label) = imdb.load_data(num_words=1000)"
      ]
    },
    {
      "cell_type": "code",
      "source": [
        "word_index = imdb.get_word_index()\n",
        "reverse_word_index = dict([ (value,key) for (key,value) in word_index.items()])\n",
        "decode_word = \" \".join([ reverse_word_index.get(i-3,\"?\")  for i in train_data[0]])"
      ],
      "metadata": {
        "id": "StEv0ff0WlZ3"
      },
      "execution_count": 16,
      "outputs": []
    },
    {
      "cell_type": "code",
      "source": [
        "decode_word"
      ],
      "metadata": {
        "colab": {
          "base_uri": "https://localhost:8080/",
          "height": 181
        },
        "id": "TS-zR5mwWu34",
        "outputId": "bc52ca35-8fbc-4190-a953-31b7ae8508cd"
      },
      "execution_count": 17,
      "outputs": [
        {
          "output_type": "execute_result",
          "data": {
            "text/plain": [
              "\"? this film was just brilliant casting ? ? story direction ? really ? the part they played and you could just imagine being there robert ? is an amazing actor and now the same being director ? father came from the same ? ? as myself so i loved the fact there was a real ? with this film the ? ? throughout the film were great it was just brilliant so much that i ? the film as soon as it was released for ? and would recommend it to everyone to watch and the ? ? was amazing really ? at the end it was so sad and you know what they say if you ? at a film it must have been good and this definitely was also ? to the two little ? that played the ? of ? and paul they were just brilliant children are often left out of the ? ? i think because the stars that play them all ? up are such a big ? for the whole film but these children are amazing and should be ? for what they have done don't you think the whole story was so ? because it was true and was ? life after all that was ? with us all\""
            ],
            "application/vnd.google.colaboratory.intrinsic+json": {
              "type": "string"
            }
          },
          "metadata": {},
          "execution_count": 17
        }
      ]
    },
    {
      "cell_type": "code",
      "source": [
        "import numpy as np\n",
        "\n",
        "def vectorize_input(sequences,demension=10000):\n",
        "    result = np.zeros((len(sequences),demension))\n",
        "    for i,sequence in enumerate(sequences):\n",
        "          for j in sequence:\n",
        "                result[i,j]=1\n",
        "    return result \n",
        "\n",
        "x_train = vectorize_input(train_data)\n",
        "x_test = vectorize_input(test_data)"
      ],
      "metadata": {
        "id": "y3qk7DcpZsrX"
      },
      "execution_count": 18,
      "outputs": []
    },
    {
      "cell_type": "code",
      "source": [
        "y_train_label = np.asarray(train_label).astype(\"float32\")\n",
        "y_test_label = np.asarray(test_label).astype(\"float32\")"
      ],
      "metadata": {
        "id": "W-QkSP86c9XB"
      },
      "execution_count": 21,
      "outputs": []
    },
    {
      "cell_type": "code",
      "source": [
        "from tensorflow import keras \n",
        "from keras import layers\n",
        "model = keras.Sequential([\n",
        "      layers.Dense(16,activation=\"relu\"),\n",
        "      layers.Dense(16,activation=\"relu\"),\n",
        "      layers.Dense(1,activation=\"sigmoid\")                                          \n",
        "])"
      ],
      "metadata": {
        "id": "I_03treFdAme"
      },
      "execution_count": 24,
      "outputs": []
    },
    {
      "cell_type": "code",
      "source": [
        "model.compile(optimizer=\"rmsprop\",\n",
        "loss=\"binary_crossentropy\",\n",
        "metrics=[\"accuracy\"])"
      ],
      "metadata": {
        "id": "JChkaRaEglC8"
      },
      "execution_count": 37,
      "outputs": []
    },
    {
      "cell_type": "code",
      "source": [
        "x_val = x_train[:10000]\n",
        "partial_x_train = x_train[10000:]\n",
        "y_val = y_train_label[:10000]\n",
        "partial_y_train = y_train_label[10000:]"
      ],
      "metadata": {
        "id": "AhsSK2GAnEWs"
      },
      "execution_count": 38,
      "outputs": []
    },
    {
      "cell_type": "code",
      "source": [
        ""
      ],
      "metadata": {
        "id": "Vc_q6qPOqFcM",
        "outputId": "d5b58961-612e-4b68-ff04-63a8b6bedaa4",
        "colab": {
          "base_uri": "https://localhost:8080/"
        }
      },
      "execution_count": 36,
      "outputs": [
        {
          "output_type": "execute_result",
          "data": {
            "text/plain": [
              "array([[0., 1., 1., ..., 0., 0., 0.],\n",
              "       [0., 1., 1., ..., 0., 0., 0.],\n",
              "       [0., 1., 1., ..., 0., 0., 0.],\n",
              "       ...,\n",
              "       [0., 1., 1., ..., 0., 0., 0.],\n",
              "       [0., 1., 1., ..., 0., 0., 0.],\n",
              "       [0., 1., 1., ..., 0., 0., 0.]])"
            ]
          },
          "metadata": {},
          "execution_count": 36
        }
      ]
    },
    {
      "cell_type": "code",
      "source": [
        "history = model.fit(partial_x_train,partial_y_train,batch_size=512,epochs=4,validation_data=(x_val,y_val))"
      ],
      "metadata": {
        "id": "mvomDp3ina1q",
        "outputId": "8f91860d-75fa-4325-ef81-bfbec03d9f8a",
        "colab": {
          "base_uri": "https://localhost:8080/"
        }
      },
      "execution_count": 43,
      "outputs": [
        {
          "output_type": "stream",
          "name": "stdout",
          "text": [
            "Epoch 1/4\n",
            "30/30 [==============================] - 1s 46ms/step - loss: 0.2605 - accuracy: 0.8917 - val_loss: 0.3489 - val_accuracy: 0.8560\n",
            "Epoch 2/4\n",
            "30/30 [==============================] - 1s 34ms/step - loss: 0.2551 - accuracy: 0.8920 - val_loss: 0.3579 - val_accuracy: 0.8522\n",
            "Epoch 3/4\n",
            "30/30 [==============================] - 1s 34ms/step - loss: 0.2493 - accuracy: 0.8950 - val_loss: 0.3836 - val_accuracy: 0.8405\n",
            "Epoch 4/4\n",
            "30/30 [==============================] - 1s 34ms/step - loss: 0.2469 - accuracy: 0.8961 - val_loss: 0.3532 - val_accuracy: 0.8555\n"
          ]
        }
      ]
    },
    {
      "cell_type": "code",
      "source": [
        "import matplotlib.pyplot as plt\n",
        "history_dict = history.history\n",
        "loss_values = history_dict[\"loss\"]\n",
        "val_loss_values = history_dict[\"val_loss\"]\n",
        "epochs = range(1, len(loss_values) + 1)\n",
        "plt.plot(epochs, loss_values, \"bo\", label=\"Training loss\") \n",
        "plt.plot(epochs, val_loss_values, \"b\", label=\"Validation loss\") \n",
        "plt.title(\"Training and validation loss\")\n",
        "plt.xlabel(\"Epochs\")\n",
        "plt.ylabel(\"Loss\")\n",
        "plt.legend()\n",
        "plt.show()"
      ],
      "metadata": {
        "id": "4kPhsbfyoNgO",
        "outputId": "052524b3-1315-48fb-aa95-e3d2f4c297da",
        "colab": {
          "base_uri": "https://localhost:8080/",
          "height": 295
        }
      },
      "execution_count": 44,
      "outputs": [
        {
          "output_type": "display_data",
          "data": {
            "text/plain": [
              "<Figure size 432x288 with 1 Axes>"
            ],
            "image/png": "[encoded data removed]"
          },
          "metadata": {
            "needs_background": "light"
          }
        }
      ]
    },
    {
      "cell_type": "code",
      "source": [
        "acc = history_dict[\"accuracy\"]\n",
        "val_acc = history_dict[\"val_accuracy\"]\n",
        "plt.plot(epochs, acc, \"bo\", label=\"Training acc\")\n",
        "plt.plot(epochs, val_acc, \"b\", label=\"Validation acc\")\n",
        "plt.title(\"Training and validation accuracy\")\n",
        "plt.xlabel(\"Epochs\")\n",
        "plt.ylabel(\"Accuracy\")\n",
        "plt.legend()\n",
        "plt.show()\n"
      ],
      "metadata": {
        "id": "nqR_4C6RrvYT",
        "outputId": "eb408128-768d-47c4-9fdc-205444f71525",
        "colab": {
          "base_uri": "https://localhost:8080/",
          "height": 295
        }
      },
      "execution_count": 45,
      "outputs": [
        {
          "output_type": "display_data",
          "data": {
            "text/plain": [
              "<Figure size 432x288 with 1 Axes>"
            ],
            "image/png": "[encoded data removed]"
          },
          "metadata": {
            "needs_background": "light"
          }
        }
      ]
    },
    {
      "cell_type": "code",
      "source": [
        "results = model.evaluate(x_test,y_test_label) "
      ],
      "metadata": {
        "id": "4E3GUf8Hr9E7",
        "outputId": "ee18f82d-7cbc-45aa-a33c-417c4e390e5b",
        "colab": {
          "base_uri": "https://localhost:8080/"
        }
      },
      "execution_count": 49,
      "outputs": [
        {
          "output_type": "stream",
          "name": "stdout",
          "text": [
            "782/782 [==============================] - 2s 2ms/step - loss: 0.3522 - accuracy: 0.8516\n"
          ]
        }
      ]
    },
    {
      "cell_type": "code",
      "source": [
        "model.predict(x_test)"
      ],
      "metadata": {
        "id": "ogfrMkTWuLr0",
        "outputId": "e4fb7f7c-44bd-4a6d-e9a8-92f6e67386c5",
        "colab": {
          "base_uri": "https://localhost:8080/"
        }
      },
      "execution_count": 51,
      "outputs": [
        {
          "output_type": "execute_result",
          "data": {
            "text/plain": [
              "array([[0.30716565],\n",
              "       [0.9974013 ],\n",
              "       [0.82753897],\n",
              "       ...,\n",
              "       [0.08147565],\n",
              "       [0.11673743],\n",
              "       [0.612033  ]], dtype=float32)"
            ]
          },
          "metadata": {},
          "execution_count": 51
        }
      ]
    },
    {
      "cell_type": "code",
      "source": [
        ""
      ],
      "metadata": {
        "id": "4iAzWRUTue4A"
      },
      "execution_count": null,
      "outputs": []
    }
  ]
}